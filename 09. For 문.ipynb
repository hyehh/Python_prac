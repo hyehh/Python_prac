{
 "cells": [
  {
   "cell_type": "markdown",
   "id": "d0bff777",
   "metadata": {},
   "source": [
    "# For 문\n",
    "## range 함수\n",
    ": range(시작숫자, 끝숫자, 증감값) / 만약 증감값 미기재 시, 1씩 증가"
   ]
  },
  {
   "cell_type": "code",
   "execution_count": 1,
   "id": "e113c2c8",
   "metadata": {},
   "outputs": [
    {
     "data": {
      "text/plain": [
       "range(1, 11)"
      ]
     },
     "execution_count": 1,
     "metadata": {},
     "output_type": "execute_result"
    }
   ],
   "source": [
    "var = range(1, 11)\n",
    "var"
   ]
  },
  {
   "cell_type": "code",
   "execution_count": 2,
   "id": "830872d8",
   "metadata": {},
   "outputs": [
    {
     "data": {
      "text/plain": [
       "[1, 2, 3, 4, 5, 6, 7, 8, 9, 10]"
      ]
     },
     "execution_count": 2,
     "metadata": {},
     "output_type": "execute_result"
    }
   ],
   "source": [
    "# range를 출력해서 보고 싶을 경우 list 사용해서 출력하기\n",
    "list(range(1,11))"
   ]
  },
  {
   "cell_type": "code",
   "execution_count": 3,
   "id": "12d31f75",
   "metadata": {},
   "outputs": [
    {
     "data": {
      "text/plain": [
       "[0, 2, 4, 6, 8, 10]"
      ]
     },
     "execution_count": 3,
     "metadata": {},
     "output_type": "execute_result"
    }
   ],
   "source": [
    "# 짝수만 가져오기\n",
    "list(range(0,11,2))"
   ]
  },
  {
   "cell_type": "code",
   "execution_count": 4,
   "id": "8e6befe0",
   "metadata": {},
   "outputs": [
    {
     "data": {
      "text/plain": [
       "[10, 7, 4, 1, -2, -5, -8]"
      ]
     },
     "execution_count": 4,
     "metadata": {},
     "output_type": "execute_result"
    }
   ],
   "source": [
    "list(range(10,-10,-3))"
   ]
  },
  {
   "cell_type": "code",
   "execution_count": 5,
   "id": "ad6cb623",
   "metadata": {},
   "outputs": [
    {
     "data": {
      "text/plain": [
       "[]"
      ]
     },
     "execution_count": 5,
     "metadata": {},
     "output_type": "execute_result"
    }
   ],
   "source": [
    "# 증감값에 오류가 있어도 파이썬에서 오류 안보여주고 비어 있는 결과 값 출력\n",
    "list(range(0,10,-2))"
   ]
  },
  {
   "cell_type": "code",
   "execution_count": 9,
   "id": "38d4770a",
   "metadata": {},
   "outputs": [
    {
     "data": {
      "text/plain": [
       "4"
      ]
     },
     "execution_count": 9,
     "metadata": {},
     "output_type": "execute_result"
    }
   ],
   "source": [
    "# range자체가 배열이기 때문에 하나씩 빼는 건 가능함 (단, 여러 개는 불가능 - 리스트 넣어야 함)\n",
    "var = range(1,11)\n",
    "var[3]"
   ]
  },
  {
   "cell_type": "code",
   "execution_count": 7,
   "id": "8857ba4d",
   "metadata": {},
   "outputs": [
    {
     "data": {
      "text/plain": [
       "range"
      ]
     },
     "execution_count": 7,
     "metadata": {},
     "output_type": "execute_result"
    }
   ],
   "source": [
    "type(var)"
   ]
  },
  {
   "cell_type": "markdown",
   "id": "312aa76a",
   "metadata": {},
   "source": [
    "## for문에 range 함수 사용하기"
   ]
  },
  {
   "cell_type": "code",
   "execution_count": 1,
   "id": "022d8b92",
   "metadata": {},
   "outputs": [
    {
     "name": "stdout",
     "output_type": "stream",
     "text": [
      "1\n",
      "2\n",
      "3\n",
      "4\n",
      "5\n",
      "6\n",
      "7\n",
      "8\n",
      "9\n",
      "10\n"
     ]
    }
   ],
   "source": [
    "for i in range(1,11):\n",
    "    print(i)"
   ]
  },
  {
   "cell_type": "code",
   "execution_count": 2,
   "id": "f1667acb",
   "metadata": {},
   "outputs": [
    {
     "name": "stdout",
     "output_type": "stream",
     "text": [
      "0\n",
      "1\n",
      "2\n",
      "3\n",
      "4\n",
      "5\n"
     ]
    }
   ],
   "source": [
    "# 범위값에 숫자 하나만 있는 경우 0부터 (숫자) 전까지 라는 의미\n",
    "for i in range(6):\n",
    "    print(i)"
   ]
  },
  {
   "cell_type": "code",
   "execution_count": 3,
   "id": "b21942ce",
   "metadata": {},
   "outputs": [
    {
     "name": "stdout",
     "output_type": "stream",
     "text": [
      "1\n",
      "3\n",
      "5\n",
      "7\n",
      "9\n"
     ]
    }
   ],
   "source": [
    "for i in range(1,11,2):\n",
    "    print(i)"
   ]
  },
  {
   "cell_type": "code",
   "execution_count": 6,
   "id": "71592d19",
   "metadata": {},
   "outputs": [
    {
     "name": "stdout",
     "output_type": "stream",
     "text": [
      "9 X 1 =  9\n",
      "9 X 2 = 18\n",
      "9 X 3 = 27\n",
      "9 X 4 = 36\n",
      "9 X 5 = 45\n",
      "9 X 6 = 54\n",
      "9 X 7 = 63\n",
      "9 X 8 = 72\n",
      "9 X 9 = 81\n"
     ]
    }
   ],
   "source": [
    "# 9단 출력\n",
    "for i in range(1,10):\n",
    "    print(9, 'X', i, '=', '%2d' %(9 * i))"
   ]
  },
  {
   "cell_type": "code",
   "execution_count": 10,
   "id": "9ef8ccbe",
   "metadata": {},
   "outputs": [
    {
     "name": "stdout",
     "output_type": "stream",
     "text": [
      "aaabbb\n"
     ]
    }
   ],
   "source": [
    "# end 는 기본적으로 \\n이 들어가있음!\n",
    "print('aaa', end=\"\")\n",
    "print('bbb')"
   ]
  },
  {
   "cell_type": "code",
   "execution_count": 4,
   "id": "0c6418fc",
   "metadata": {},
   "outputs": [
    {
     "name": "stdout",
     "output_type": "stream",
     "text": [
      "\n",
      " 2  4  6  8 10 12 14 16 \n",
      " 3  6  9 12 15 18 21 24 \n",
      " 4  8 12 16 20 24 28 32 \n",
      " 5 10 15 20 25 30 35 40 \n",
      " 6 12 18 24 30 36 42 48 \n",
      " 7 14 21 28 35 42 49 56 \n",
      " 8 16 24 32 40 48 56 64 \n",
      " 9 18 27 36 45 54 63 72 "
     ]
    }
   ],
   "source": [
    "# 구구단 결과만 출력하기\n",
    "for i in range(2, 10):\n",
    "    print()\n",
    "    for j in range(1, 9):\n",
    "        print('%2d' %(i * j), end=\" \")"
   ]
  },
  {
   "cell_type": "markdown",
   "id": "18308ea9",
   "metadata": {},
   "source": [
    "## for문에 list 사용하기"
   ]
  },
  {
   "cell_type": "code",
   "execution_count": 7,
   "id": "57c5a39a",
   "metadata": {},
   "outputs": [
    {
     "name": "stdout",
     "output_type": "stream",
     "text": [
      "one\n",
      "two\n",
      "three\n"
     ]
    }
   ],
   "source": [
    "test_list = ['one', 'two', 'three']\n",
    "for i in test_list:\n",
    "    print(i)"
   ]
  },
  {
   "cell_type": "code",
   "execution_count": 9,
   "id": "e12aaec0",
   "metadata": {},
   "outputs": [
    {
     "name": "stdout",
     "output_type": "stream",
     "text": [
      "80.75\n"
     ]
    }
   ],
   "source": [
    "# 평균 구하기\n",
    "scores = [78, 85, 95, 65]\n",
    "total = 0\n",
    "\n",
    "# for 다음 변수는 단수형으로 많이 사용!\n",
    "for score in scores:\n",
    "    total += score\n",
    "print(total / len(scores))"
   ]
  },
  {
   "cell_type": "code",
   "execution_count": null,
   "id": "98cd2be7",
   "metadata": {},
   "outputs": [],
   "source": [
    " "
   ]
  }
 ],
 "metadata": {
  "kernelspec": {
   "display_name": "Python 3",
   "language": "python",
   "name": "python3"
  },
  "language_info": {
   "codemirror_mode": {
    "name": "ipython",
    "version": 3
   },
   "file_extension": ".py",
   "mimetype": "text/x-python",
   "name": "python",
   "nbconvert_exporter": "python",
   "pygments_lexer": "ipython3",
   "version": "3.8.8"
  }
 },
 "nbformat": 4,
 "nbformat_minor": 5
}
