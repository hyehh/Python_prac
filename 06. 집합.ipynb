{
 "cells": [
  {
   "cell_type": "markdown",
   "id": "709e8d93",
   "metadata": {},
   "source": [
    "# 집합(Set)\n",
    "- 집합의 특징 : 중복데이터가 못 들어감 (이를 통해 중복 데이터가 있는지 손쉽게 파악 가능)"
   ]
  },
  {
   "cell_type": "code",
   "execution_count": 23,
   "id": "8576a3de",
   "metadata": {},
   "outputs": [
    {
     "data": {
      "text/plain": [
       "{1, 2, 3, 4, 5}"
      ]
     },
     "execution_count": 23,
     "metadata": {},
     "output_type": "execute_result"
    }
   ],
   "source": [
    "# 집합 정의 (중복 값 제외하고 출력)\n",
    "s1 = set([1,2,3,4,5,5,5,5])\n",
    "s1"
   ]
  },
  {
   "cell_type": "code",
   "execution_count": 28,
   "id": "21499de3",
   "metadata": {},
   "outputs": [
    {
     "name": "stdout",
     "output_type": "stream",
     "text": [
      "{1, 2, 3, 4, 5}\n",
      "{4, 5, 6, 7, 8, 9}\n"
     ]
    }
   ],
   "source": [
    "s1 = set([1,2,3,4,5])\n",
    "s2 = set([4,5,6,7,8,9])\n",
    "print(s1)\n",
    "print(s2)"
   ]
  },
  {
   "cell_type": "code",
   "execution_count": 7,
   "id": "93bcb1de",
   "metadata": {},
   "outputs": [
    {
     "name": "stdout",
     "output_type": "stream",
     "text": [
      "{4, 5}\n",
      "{4, 5}\n"
     ]
    }
   ],
   "source": [
    "# 교집합\n",
    "print(s1 & s2)\n",
    "print(s1.intersection(s2))"
   ]
  },
  {
   "cell_type": "code",
   "execution_count": 8,
   "id": "7f7d3cc4",
   "metadata": {},
   "outputs": [
    {
     "name": "stdout",
     "output_type": "stream",
     "text": [
      "{1, 2, 3, 4, 5, 6, 7, 8, 9}\n",
      "{1, 2, 3, 4, 5, 6, 7, 8, 9}\n"
     ]
    }
   ],
   "source": [
    "# 합집합\n",
    "print(s1 | s2)\n",
    "print(s1.union(s2))"
   ]
  },
  {
   "cell_type": "code",
   "execution_count": 9,
   "id": "36ddb586",
   "metadata": {},
   "outputs": [
    {
     "name": "stdout",
     "output_type": "stream",
     "text": [
      "{1, 2, 3}\n",
      "{1, 2, 3}\n"
     ]
    }
   ],
   "source": [
    "# 차집합\n",
    "print(s1 - s2)\n",
    "print(s1.difference(s2))"
   ]
  },
  {
   "cell_type": "code",
   "execution_count": 29,
   "id": "cd9eb977",
   "metadata": {},
   "outputs": [
    {
     "data": {
      "text/plain": [
       "{1, 2, 3, 4, 5, 10}"
      ]
     },
     "execution_count": 29,
     "metadata": {},
     "output_type": "execute_result"
    }
   ],
   "source": [
    "# 값 1개 추가 (중복된 데이터는 들어가지 않고, 중복 되지 않은 데이터만 들어감)\n",
    "s1.add(1)\n",
    "s1.add(10)\n",
    "s1"
   ]
  },
  {
   "cell_type": "code",
   "execution_count": 32,
   "id": "fdcacf44",
   "metadata": {},
   "outputs": [
    {
     "data": {
      "text/plain": [
       "{1, 2, 3, 4, 5, 10, 20, 30, 40}"
      ]
     },
     "execution_count": 32,
     "metadata": {},
     "output_type": "execute_result"
    }
   ],
   "source": [
    "# 값 여러 개 추가 (list를 업데이트 한다고 생각하면 됨)\n",
    "s1.update([1, 20, 30, 40])\n",
    "s1"
   ]
  },
  {
   "cell_type": "code",
   "execution_count": 33,
   "id": "d9f7ccc6",
   "metadata": {},
   "outputs": [
    {
     "data": {
      "text/plain": [
       "{1, 2, 3, 4, 5, 20, 30, 40}"
      ]
     },
     "execution_count": 33,
     "metadata": {},
     "output_type": "execute_result"
    }
   ],
   "source": [
    "# 특정 값 제거\n",
    "s1.remove(10)\n",
    "s1"
   ]
  },
  {
   "cell_type": "code",
   "execution_count": null,
   "id": "cb3d88dd",
   "metadata": {},
   "outputs": [],
   "source": []
  }
 ],
 "metadata": {
  "kernelspec": {
   "display_name": "Python 3",
   "language": "python",
   "name": "python3"
  },
  "language_info": {
   "codemirror_mode": {
    "name": "ipython",
    "version": 3
   },
   "file_extension": ".py",
   "mimetype": "text/x-python",
   "name": "python",
   "nbconvert_exporter": "python",
   "pygments_lexer": "ipython3",
   "version": "3.8.8"
  }
 },
 "nbformat": 4,
 "nbformat_minor": 5
}
