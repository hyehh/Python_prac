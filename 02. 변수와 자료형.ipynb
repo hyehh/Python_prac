{
 "cells": [
  {
   "cell_type": "markdown",
   "id": "76583890",
   "metadata": {},
   "source": [
    "# --- 변수와 자료형 ---\n",
    "## 변수\n",
    "계산에 필요한 자료를 일시적으로 저장하거나 처리 결과를 담을 수 있는 기억 장소를 지정해주는 역할.   \n",
    "변수 이름은 값을 지정하는 메모리 영역의 이름으로 할당.\n",
    "## 변수 이름의 작성 규칙\n",
    "- 첫 자는 영문으로 시작.\n",
    "- 첫 자를 제외하고 숫자, under bar, dot을 사용할 수 있음.\n",
    "- 대문자와 소문자를 구분.\n",
    "- 변수 이름은 의미를 파악할 수 있는 이름으로 지정하는 것이 좋음.\n",
    "- 두 단어를 포함한 변수 이름을 지정할 경우 두 번째 단어의 첫자는 대문자로 표시(Camel Method)하거나 under bar(Snack Method)로 표시하는 것이 가독성에 좋음."
   ]
  },
  {
   "cell_type": "markdown",
   "id": "9c927071",
   "metadata": {},
   "source": [
    "---"
   ]
  },
  {
   "cell_type": "markdown",
   "id": "b81880a3",
   "metadata": {},
   "source": [
    "## 숫자 자료형"
   ]
  },
  {
   "cell_type": "code",
   "execution_count": 4,
   "id": "34c823d4",
   "metadata": {},
   "outputs": [
    {
     "data": {
      "text/plain": [
       "-17"
      ]
     },
     "execution_count": 4,
     "metadata": {},
     "output_type": "execute_result"
    }
   ],
   "source": [
    "# 정수형\n",
    "\n",
    "var01 = 123\n",
    "var02 = -17\n",
    "var01 = 0\n",
    "\n",
    "var01\n",
    "var02"
   ]
  },
  {
   "cell_type": "code",
   "execution_count": 5,
   "id": "887d14ae",
   "metadata": {},
   "outputs": [
    {
     "name": "stdout",
     "output_type": "stream",
     "text": [
      "0\n",
      "-17\n"
     ]
    }
   ],
   "source": [
    "# 정수형\n",
    "\n",
    "var01 = 123\n",
    "var02 = -17\n",
    "var01 = 0\n",
    "\n",
    "print(var01)\n",
    "print(var02)"
   ]
  },
  {
   "cell_type": "code",
   "execution_count": 6,
   "id": "f5457c84",
   "metadata": {},
   "outputs": [
    {
     "data": {
      "text/plain": [
       "-12.34"
      ]
     },
     "execution_count": 6,
     "metadata": {},
     "output_type": "execute_result"
    }
   ],
   "source": [
    "# 실수형\n",
    "\n",
    "var03 = 1.2\n",
    "var03 = -12.34\n",
    "\n",
    "var03"
   ]
  },
  {
   "cell_type": "code",
   "execution_count": 12,
   "id": "e7261f03",
   "metadata": {},
   "outputs": [
    {
     "name": "stdout",
     "output_type": "stream",
     "text": [
      "덧셈 :  7\n",
      "뺄셈 :  -1\n",
      "곱셈 :  12\n",
      "실수 나눗셈 :  0.75\n",
      "정수 나눗셈의 몫 0\n",
      "정수 나눗셈의 나머지 3\n",
      "제곱 :  27\n",
      "제곱 :  27\n"
     ]
    }
   ],
   "source": [
    "# 연산자\n",
    "\n",
    "var01 = 3\n",
    "var02 = 4\n",
    "\n",
    "print('덧셈 : ', var01 + var02)\n",
    "print('뺄셈 : ', var01 - var02)\n",
    "print('곱셈 : ', var01 * var02)\n",
    "print('실수 나눗셈 : ', var01 / var02)\n",
    "print('정수 나눗셈의 몫', var01 // var02)\n",
    "print('정수 나눗셈의 나머지', var01 % var02)\n",
    "print('제곱 : ', var01 ** 3)\n",
    "print('제곱 : ', pow(var01, 3))"
   ]
  },
  {
   "cell_type": "markdown",
   "id": "a6b7784a",
   "metadata": {},
   "source": [
    "---"
   ]
  },
  {
   "cell_type": "markdown",
   "id": "5e625e81",
   "metadata": {},
   "source": [
    "## 파이썬 모듈을 이용한 수학 계산"
   ]
  },
  {
   "cell_type": "code",
   "execution_count": 13,
   "id": "86cd2fb0",
   "metadata": {},
   "outputs": [],
   "source": [
    "# 수학 계산을 위한 모듈 불러오기\n",
    "import math"
   ]
  },
  {
   "cell_type": "code",
   "execution_count": 14,
   "id": "c04b5729",
   "metadata": {},
   "outputs": [
    {
     "data": {
      "text/plain": [
       "9.0"
      ]
     },
     "execution_count": 14,
     "metadata": {},
     "output_type": "execute_result"
    }
   ],
   "source": [
    "# 거듭제곱 (기본적으로 실수 값 등장)\n",
    "math.pow(var01, 2)"
   ]
  },
  {
   "cell_type": "code",
   "execution_count": 16,
   "id": "53299d4c",
   "metadata": {},
   "outputs": [
    {
     "data": {
      "text/plain": [
       "1.7320508075688772"
      ]
     },
     "execution_count": 16,
     "metadata": {},
     "output_type": "execute_result"
    }
   ],
   "source": [
    "# 제곱근 (루트)\n",
    "math.sqrt(var01)"
   ]
  },
  {
   "cell_type": "code",
   "execution_count": 17,
   "id": "f0d740f9",
   "metadata": {},
   "outputs": [
    {
     "data": {
      "text/plain": [
       "0.8509035245341184"
      ]
     },
     "execution_count": 17,
     "metadata": {},
     "output_type": "execute_result"
    }
   ],
   "source": [
    "# sin(45)\n",
    "math.sin(45)"
   ]
  },
  {
   "cell_type": "code",
   "execution_count": 19,
   "id": "040ff341",
   "metadata": {},
   "outputs": [
    {
     "data": {
      "text/plain": [
       "1.0"
      ]
     },
     "execution_count": 19,
     "metadata": {},
     "output_type": "execute_result"
    }
   ],
   "source": [
    "# sin(45)제곱 + cos(45)제곱\n",
    "math.pow(math.sin(45), 2) + math.pow(math.cos(45), 2)"
   ]
  },
  {
   "cell_type": "markdown",
   "id": "9196c8a2",
   "metadata": {},
   "source": [
    "---"
   ]
  },
  {
   "cell_type": "markdown",
   "id": "a01d9247",
   "metadata": {},
   "source": [
    "## 난수(정해지지 않은 수) 발생"
   ]
  },
  {
   "cell_type": "code",
   "execution_count": 20,
   "id": "fdea9d43",
   "metadata": {},
   "outputs": [],
   "source": [
    "# 난수 계산을 위한 모듈 불러오기\n",
    "import random"
   ]
  },
  {
   "cell_type": "code",
   "execution_count": 22,
   "id": "a9095f41",
   "metadata": {},
   "outputs": [
    {
     "data": {
      "text/plain": [
       "14"
      ]
     },
     "execution_count": 22,
     "metadata": {},
     "output_type": "execute_result"
    }
   ],
   "source": [
    "# 1에서 100사이의 난수 하나 가져오기\n",
    "random.randint(1, 100)"
   ]
  },
  {
   "cell_type": "code",
   "execution_count": 24,
   "id": "89b5b193",
   "metadata": {},
   "outputs": [
    {
     "data": {
      "text/plain": [
       "[4, 1, 5]"
      ]
     },
     "execution_count": 24,
     "metadata": {},
     "output_type": "execute_result"
    }
   ],
   "source": [
    "# 5개의 숫자 중 랜덤으로 3개 뽑아 그 3개의 숫자 랜덤으로 자리배치 정해주기\n",
    "rlist = [1,2,3,4,5]\n",
    "random.sample(rlist, 3)"
   ]
  },
  {
   "cell_type": "code",
   "execution_count": 25,
   "id": "28393872",
   "metadata": {
    "collapsed": true
   },
   "outputs": [
    {
     "name": "stdout",
     "output_type": "stream",
     "text": [
      "1\n",
      "2\n",
      "3\n",
      "4\n",
      "5\n",
      "6\n",
      "7\n",
      "8\n",
      "9\n",
      "10\n",
      "11\n",
      "12\n",
      "13\n",
      "14\n",
      "15\n",
      "16\n",
      "17\n",
      "18\n",
      "19\n",
      "20\n",
      "21\n",
      "22\n",
      "23\n",
      "24\n",
      "25\n",
      "26\n",
      "27\n",
      "28\n",
      "29\n",
      "30\n",
      "31\n",
      "32\n",
      "33\n",
      "34\n",
      "35\n",
      "36\n",
      "37\n",
      "38\n",
      "39\n",
      "40\n",
      "41\n",
      "42\n",
      "43\n",
      "44\n",
      "45\n",
      "46\n",
      "47\n",
      "48\n",
      "49\n",
      "50\n",
      "51\n",
      "52\n",
      "53\n",
      "54\n",
      "55\n",
      "56\n",
      "57\n",
      "58\n",
      "59\n",
      "60\n",
      "61\n",
      "62\n",
      "63\n",
      "64\n",
      "65\n",
      "66\n",
      "67\n",
      "68\n",
      "69\n",
      "70\n",
      "71\n",
      "72\n",
      "73\n",
      "74\n",
      "75\n",
      "76\n",
      "77\n",
      "78\n",
      "79\n",
      "80\n",
      "81\n",
      "82\n",
      "83\n",
      "84\n",
      "85\n",
      "86\n",
      "87\n",
      "88\n",
      "89\n",
      "90\n",
      "91\n",
      "92\n",
      "93\n",
      "94\n",
      "95\n",
      "96\n",
      "97\n",
      "98\n",
      "99\n",
      "100\n"
     ]
    }
   ],
   "source": [
    "# 1부터 100까지의 범위\n",
    "alist = range(1, 101)\n",
    "for i in alist:\n",
    "    print(i)"
   ]
  },
  {
   "cell_type": "code",
   "execution_count": 26,
   "id": "b5412577",
   "metadata": {},
   "outputs": [
    {
     "data": {
      "text/plain": [
       "[33, 29, 10, 14, 7, 18]"
      ]
     },
     "execution_count": 26,
     "metadata": {},
     "output_type": "execute_result"
    }
   ],
   "source": [
    "# 로또번호 생성하기\n",
    "alist = range(1,46)\n",
    "random.sample(alist, 6)"
   ]
  },
  {
   "cell_type": "markdown",
   "id": "86cc866a",
   "metadata": {},
   "source": [
    "---"
   ]
  },
  {
   "cell_type": "markdown",
   "id": "0d43ac0b",
   "metadata": {},
   "source": [
    "## 변수"
   ]
  },
  {
   "cell_type": "code",
   "execution_count": 27,
   "id": "9cc3f689",
   "metadata": {
    "collapsed": true
   },
   "outputs": [
    {
     "data": {
      "text/plain": [
       "['In',\n",
       " 'Out',\n",
       " '_',\n",
       " '_1',\n",
       " '_14',\n",
       " '_15',\n",
       " '_16',\n",
       " '_17',\n",
       " '_19',\n",
       " '_2',\n",
       " '_21',\n",
       " '_22',\n",
       " '_23',\n",
       " '_24',\n",
       " '_26',\n",
       " '_3',\n",
       " '_4',\n",
       " '_6',\n",
       " '__',\n",
       " '___',\n",
       " '__builtin__',\n",
       " '__builtins__',\n",
       " '__doc__',\n",
       " '__loader__',\n",
       " '__name__',\n",
       " '__package__',\n",
       " '__spec__',\n",
       " '_dh',\n",
       " '_i',\n",
       " '_i1',\n",
       " '_i10',\n",
       " '_i11',\n",
       " '_i12',\n",
       " '_i13',\n",
       " '_i14',\n",
       " '_i15',\n",
       " '_i16',\n",
       " '_i17',\n",
       " '_i18',\n",
       " '_i19',\n",
       " '_i2',\n",
       " '_i20',\n",
       " '_i21',\n",
       " '_i22',\n",
       " '_i23',\n",
       " '_i24',\n",
       " '_i25',\n",
       " '_i26',\n",
       " '_i27',\n",
       " '_i3',\n",
       " '_i4',\n",
       " '_i5',\n",
       " '_i6',\n",
       " '_i7',\n",
       " '_i8',\n",
       " '_i9',\n",
       " '_ih',\n",
       " '_ii',\n",
       " '_iii',\n",
       " '_oh',\n",
       " 'alist',\n",
       " 'exit',\n",
       " 'get_ipython',\n",
       " 'i',\n",
       " 'math',\n",
       " 'quit',\n",
       " 'random',\n",
       " 'rlist',\n",
       " 'var01',\n",
       " 'var02',\n",
       " 'var03']"
      ]
     },
     "execution_count": 27,
     "metadata": {},
     "output_type": "execute_result"
    }
   ],
   "source": [
    "# 메모리에 있는 변수 보기\n",
    "dir()"
   ]
  },
  {
   "cell_type": "code",
   "execution_count": 33,
   "id": "d7f35525",
   "metadata": {},
   "outputs": [
    {
     "data": {
      "text/plain": [
       "3"
      ]
     },
     "execution_count": 33,
     "metadata": {},
     "output_type": "execute_result"
    }
   ],
   "source": [
    "var01"
   ]
  },
  {
   "cell_type": "code",
   "execution_count": 34,
   "id": "753ec3f5",
   "metadata": {},
   "outputs": [],
   "source": [
    "# 메모리에 있는 변수 지우기\n",
    "del var01"
   ]
  },
  {
   "cell_type": "markdown",
   "id": "6ba6fbd5",
   "metadata": {},
   "source": [
    "---"
   ]
  },
  {
   "cell_type": "markdown",
   "id": "502a5320",
   "metadata": {},
   "source": [
    "## 관계 연산자"
   ]
  },
  {
   "cell_type": "code",
   "execution_count": 36,
   "id": "5eb2d963",
   "metadata": {},
   "outputs": [],
   "source": [
    "num1 = 100\n",
    "num2 = 20"
   ]
  },
  {
   "cell_type": "code",
   "execution_count": 37,
   "id": "d5124161",
   "metadata": {},
   "outputs": [
    {
     "name": "stdout",
     "output_type": "stream",
     "text": [
      "False\n",
      "True\n"
     ]
    }
   ],
   "source": [
    "# 동등 비교 (대문자로 True, False 출력)\n",
    "print(num1 == num2)\n",
    "print(num1 != num2)"
   ]
  },
  {
   "cell_type": "code",
   "execution_count": 40,
   "id": "cd5ab5b6",
   "metadata": {},
   "outputs": [
    {
     "name": "stdout",
     "output_type": "stream",
     "text": [
      "True\n",
      "False\n",
      "True\n",
      "False\n"
     ]
    }
   ],
   "source": [
    "# 크기 비교\n",
    "print(num1 > num2)\n",
    "print(num1 < num2)\n",
    "print(num1 >= num2)\n",
    "print(num1 <= num2)"
   ]
  },
  {
   "cell_type": "code",
   "execution_count": 43,
   "id": "ed76e1f4",
   "metadata": {},
   "outputs": [
    {
     "name": "stdout",
     "output_type": "stream",
     "text": [
      "False\n",
      "True\n"
     ]
    }
   ],
   "source": [
    "# And, Or\n",
    "print((num1 >= 50) & (num2 <= 10))\n",
    "print((num1 >= 50) | (num2 <= 10))"
   ]
  },
  {
   "cell_type": "code",
   "execution_count": 45,
   "id": "e75d8cc5",
   "metadata": {},
   "outputs": [
    {
     "name": "stdout",
     "output_type": "stream",
     "text": [
      "False\n",
      "True\n"
     ]
    }
   ],
   "source": [
    "# 부정 연산자(~가 아닌 사람 이럴 때 많이 사용)\n",
    "print(not(num1 >= 50))\n",
    "print(not(num1 <= 50))"
   ]
  },
  {
   "cell_type": "markdown",
   "id": "4ebb6f98",
   "metadata": {},
   "source": [
    "---"
   ]
  },
  {
   "cell_type": "markdown",
   "id": "f73f4f28",
   "metadata": {},
   "source": [
    "## 문자열"
   ]
  },
  {
   "cell_type": "code",
   "execution_count": 47,
   "id": "d67a3756",
   "metadata": {},
   "outputs": [
    {
     "data": {
      "text/plain": [
       "'Hello World'"
      ]
     },
     "execution_count": 47,
     "metadata": {},
     "output_type": "execute_result"
    }
   ],
   "source": [
    "# 쌍따옴표, 홑따옴표 둘 다 가능\n",
    "var01 = \"Hello World\"\n",
    "var01"
   ]
  },
  {
   "cell_type": "code",
   "execution_count": 48,
   "id": "8a80f878",
   "metadata": {},
   "outputs": [
    {
     "data": {
      "text/plain": [
       "'Hello World'"
      ]
     },
     "execution_count": 48,
     "metadata": {},
     "output_type": "execute_result"
    }
   ],
   "source": [
    "var02 = \"Hello World\"\n",
    "var02"
   ]
  },
  {
   "cell_type": "code",
   "execution_count": 54,
   "id": "a719ade4",
   "metadata": {},
   "outputs": [
    {
     "name": "stdout",
     "output_type": "stream",
     "text": [
      "Hello World!\n",
      "Nice to meet you!\n"
     ]
    }
   ],
   "source": [
    "# 여러 줄의 문자열 출력(쌍따옴표 세 개) - html 문서를 변수로 저장할 때 많이 사용\n",
    "var01 = \"\"\"Hello World!\n",
    "Nice to meet you!\"\"\"\n",
    "print(var01)"
   ]
  },
  {
   "cell_type": "code",
   "execution_count": 58,
   "id": "105201fc",
   "metadata": {},
   "outputs": [
    {
     "name": "stdout",
     "output_type": "stream",
     "text": [
      "He says \"I love you\".\n",
      "My mother's very kind.\n"
     ]
    }
   ],
   "source": [
    "# 쌍따옴표와 홑따옴표의 사용\n",
    "# 출력하고자 하는 문장에 쌍따옴표가 있을 경우 - 홑따옴표로 감싸기 / 홑따옴표가 있을 경우 - 쌍따옴표로 감싸기\n",
    "var01 = 'He says \"I love you\".'\n",
    "var02 = \"My mother's very kind.\"\n",
    "print(var01)\n",
    "print(var02)"
   ]
  },
  {
   "cell_type": "code",
   "execution_count": 59,
   "id": "0294d1b1",
   "metadata": {},
   "outputs": [
    {
     "name": "stdout",
     "output_type": "stream",
     "text": [
      "aaa\n",
      "bbb\n",
      "aaa\tbbb\n"
     ]
    }
   ],
   "source": [
    "# 특수문자를 사용한 출력\n",
    "var03 = 'aaa\\nbbb'\n",
    "var04 = 'aaa\\tbbb'\n",
    "print(var03)\n",
    "print(var04)"
   ]
  },
  {
   "cell_type": "code",
   "execution_count": null,
   "id": "bb3c36d2",
   "metadata": {},
   "outputs": [],
   "source": []
  }
 ],
 "metadata": {
  "kernelspec": {
   "display_name": "Python 3",
   "language": "python",
   "name": "python3"
  },
  "language_info": {
   "codemirror_mode": {
    "name": "ipython",
    "version": 3
   },
   "file_extension": ".py",
   "mimetype": "text/x-python",
   "name": "python",
   "nbconvert_exporter": "python",
   "pygments_lexer": "ipython3",
   "version": "3.8.8"
  }
 },
 "nbformat": 4,
 "nbformat_minor": 5
}
