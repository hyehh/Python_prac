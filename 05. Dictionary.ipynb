{
 "cells": [
  {
   "cell_type": "markdown",
   "id": "723e1bf6",
   "metadata": {},
   "source": [
    "# Dictionary\n",
    ": 순서가 정해져있지 않고, key를 통해 value를 얻는다."
   ]
  },
  {
   "cell_type": "code",
   "execution_count": 1,
   "id": "2c8f8963",
   "metadata": {},
   "outputs": [],
   "source": [
    "# Dictionary 생성하기 {'key값' : 'value값'}\n",
    "dic = {'name' : 'pretty', 'phone' : '010-2222-3333', 'birth' : 1231, 3 : '1'}"
   ]
  },
  {
   "cell_type": "code",
   "execution_count": 2,
   "id": "617cb907",
   "metadata": {},
   "outputs": [
    {
     "data": {
      "text/plain": [
       "'pretty'"
      ]
     },
     "execution_count": 2,
     "metadata": {},
     "output_type": "execute_result"
    }
   ],
   "source": [
    "dic['name']"
   ]
  },
  {
   "cell_type": "code",
   "execution_count": 3,
   "id": "080d8918",
   "metadata": {},
   "outputs": [
    {
     "data": {
      "text/plain": [
       "1231"
      ]
     },
     "execution_count": 3,
     "metadata": {},
     "output_type": "execute_result"
    }
   ],
   "source": [
    "dic['birth']"
   ]
  },
  {
   "cell_type": "code",
   "execution_count": 4,
   "id": "5816b185",
   "metadata": {},
   "outputs": [
    {
     "data": {
      "text/plain": [
       "'1'"
      ]
     },
     "execution_count": 4,
     "metadata": {},
     "output_type": "execute_result"
    }
   ],
   "source": [
    "dic[3]"
   ]
  },
  {
   "cell_type": "code",
   "execution_count": 5,
   "id": "d5b364da",
   "metadata": {},
   "outputs": [
    {
     "name": "stdout",
     "output_type": "stream",
     "text": [
      "[1, 2, 3]\n",
      "1\n"
     ]
    }
   ],
   "source": [
    "dic1 = {'a' : [1,2,3]}\n",
    "print(dic1['a'])\n",
    "print(dic1['a'][0])"
   ]
  },
  {
   "cell_type": "code",
   "execution_count": 6,
   "id": "d3169ac7",
   "metadata": {},
   "outputs": [
    {
     "name": "stdout",
     "output_type": "stream",
     "text": [
      "{'a': [1, 2, 3], 'b': 'banana', 'name': 'Cathy', 'tuple': (1, 2)}\n"
     ]
    }
   ],
   "source": [
    "dic1['b'] = 'banana'\n",
    "dic1['name'] = 'Cathy'\n",
    "dic1['tuple'] = (1,2)\n",
    "print(dic1)"
   ]
  },
  {
   "cell_type": "code",
   "execution_count": 7,
   "id": "472b1677",
   "metadata": {},
   "outputs": [
    {
     "data": {
      "text/plain": [
       "{'a': [1, 2, 3], 'name': 'Cathy', 'tuple': (1, 2)}"
      ]
     },
     "execution_count": 7,
     "metadata": {},
     "output_type": "execute_result"
    }
   ],
   "source": [
    "del dic1['b']\n",
    "dic1"
   ]
  },
  {
   "cell_type": "markdown",
   "id": "0caa6b0f",
   "metadata": {},
   "source": [
    "---"
   ]
  },
  {
   "cell_type": "markdown",
   "id": "c9a3c32e",
   "metadata": {},
   "source": [
    "# Dictionary 관련 함수"
   ]
  },
  {
   "cell_type": "code",
   "execution_count": 8,
   "id": "0a186175",
   "metadata": {},
   "outputs": [
    {
     "data": {
      "text/plain": [
       "dict_keys(['name', 'phone', 'birth', 3])"
      ]
     },
     "execution_count": 8,
     "metadata": {},
     "output_type": "execute_result"
    }
   ],
   "source": [
    "# key값만 보여주기\n",
    "dic = {'name' : 'pretty', 'phone' : '010-2222-3333', 'birth' : 1231, 3 : '1'}\n",
    "dic.keys()"
   ]
  },
  {
   "cell_type": "code",
   "execution_count": 9,
   "id": "bccb0330",
   "metadata": {},
   "outputs": [
    {
     "name": "stdout",
     "output_type": "stream",
     "text": [
      "name\n",
      "phone\n",
      "birth\n",
      "3\n"
     ]
    }
   ],
   "source": [
    "for i in dic.keys():\n",
    "    print(i)"
   ]
  },
  {
   "cell_type": "code",
   "execution_count": 10,
   "id": "16f922c7",
   "metadata": {},
   "outputs": [
    {
     "name": "stdout",
     "output_type": "stream",
     "text": [
      "['name', 'phone', 'birth', 3]\n",
      "name\n"
     ]
    }
   ],
   "source": [
    "dic_key_list = list(dic.keys())\n",
    "print(dic_key_list)\n",
    "print(dic_key_list[0])"
   ]
  },
  {
   "cell_type": "code",
   "execution_count": 11,
   "id": "e7fb3af2",
   "metadata": {},
   "outputs": [
    {
     "data": {
      "text/plain": [
       "dict_values(['pretty', '010-2222-3333', 1231, '1'])"
      ]
     },
     "execution_count": 11,
     "metadata": {},
     "output_type": "execute_result"
    }
   ],
   "source": [
    "# value값만 보여주기\n",
    "dic.values()"
   ]
  },
  {
   "cell_type": "code",
   "execution_count": 12,
   "id": "1c388850",
   "metadata": {},
   "outputs": [
    {
     "name": "stdout",
     "output_type": "stream",
     "text": [
      "['pretty', '010-2222-3333', 1231, '1']\n",
      "010-2222-3333\n"
     ]
    }
   ],
   "source": [
    "dic_value_list = list(dic.values())\n",
    "print(dic_value_list)\n",
    "print(dic_value_list[1])"
   ]
  },
  {
   "cell_type": "code",
   "execution_count": 13,
   "id": "c8864721",
   "metadata": {},
   "outputs": [
    {
     "data": {
      "text/plain": [
       "dict_items([('name', 'pretty'), ('phone', '010-2222-3333'), ('birth', 1231), (3, '1')])"
      ]
     },
     "execution_count": 13,
     "metadata": {},
     "output_type": "execute_result"
    }
   ],
   "source": [
    "# key, value 함께 얻기\n",
    "dic.items()"
   ]
  },
  {
   "cell_type": "code",
   "execution_count": 25,
   "id": "6d7ab238",
   "metadata": {},
   "outputs": [
    {
     "name": "stdout",
     "output_type": "stream",
     "text": [
      "name : pretty\n",
      "phone : 010-2222-3333\n",
      "birth : 1231\n",
      "2 : 1\n"
     ]
    }
   ],
   "source": [
    "dic = {'name' : 'pretty', 'phone' : '010-2222-3333', 'birth' : '1231', '2' : '1'}\n",
    "for i in dic.items():\n",
    "    print(i[0] + \" : \" + i[1])"
   ]
  },
  {
   "cell_type": "code",
   "execution_count": 34,
   "id": "6ebb7b01",
   "metadata": {},
   "outputs": [
    {
     "name": "stdout",
     "output_type": "stream",
     "text": [
      "name : pretty\n",
      "phone : 010-2222-3333\n",
      "birth : 1231\n",
      "2 : 1\n"
     ]
    }
   ],
   "source": [
    "dic = {'name' : 'pretty', 'phone' : '010-2222-3333', 'birth' : 1231, 2 : 1}\n",
    "for i in dic.items():\n",
    "    print(i[0], \":\", i[1])"
   ]
  },
  {
   "cell_type": "code",
   "execution_count": 28,
   "id": "210a6b79",
   "metadata": {},
   "outputs": [
    {
     "name": "stdout",
     "output_type": "stream",
     "text": [
      "[('name', 'pretty'), ('phone', '010-2222-3333'), ('birth', 1231), (2, 1)]\n"
     ]
    }
   ],
   "source": [
    "dic_item_list = list(dic.items())\n",
    "print(dic_item_list)    "
   ]
  },
  {
   "cell_type": "code",
   "execution_count": 35,
   "id": "17fe7fa3",
   "metadata": {},
   "outputs": [
    {
     "name": "stdout",
     "output_type": "stream",
     "text": [
      "name : pretty\n",
      "phone : 010-2222-3333\n",
      "birth : 1231\n",
      "2 : 1\n"
     ]
    }
   ],
   "source": [
    "# name : petty\n",
    "print(dic_item_list[0][0], \":\", dic_item_list[0][1])\n",
    "print(dic_item_list[1][0], \":\", dic_item_list[1][1])\n",
    "print(dic_item_list[2][0], \":\", dic_item_list[2][1])\n",
    "print(dic_item_list[3][0], \":\", dic_item_list[3][1])"
   ]
  },
  {
   "cell_type": "code",
   "execution_count": 17,
   "id": "17d0b084",
   "metadata": {},
   "outputs": [
    {
     "data": {
      "text/plain": [
       "{}"
      ]
     },
     "execution_count": 17,
     "metadata": {},
     "output_type": "execute_result"
    }
   ],
   "source": [
    "# 삭제\n",
    "dic.clear()\n",
    "dic"
   ]
  },
  {
   "cell_type": "code",
   "execution_count": 18,
   "id": "dd6bbf35",
   "metadata": {},
   "outputs": [
    {
     "name": "stdout",
     "output_type": "stream",
     "text": [
      "True\n",
      "False\n",
      "True\n",
      "True\n",
      "False\n"
     ]
    }
   ],
   "source": [
    "dic = {'name' : 'pretty', 'phone' : '010-2222-3333', 'birth' : 1231, 2 : '1'}\n",
    "# name이 dic에 있는지 출력\n",
    "print('name' in dic)\n",
    "print('mail' in dic)\n",
    "print('birth' in dic)\n",
    "print(2 in dic)\n",
    "# key값만 비교됨 (value 불가)\n",
    "print('pretty' in dic)"
   ]
  },
  {
   "cell_type": "code",
   "execution_count": null,
   "id": "4a317bc4",
   "metadata": {},
   "outputs": [],
   "source": []
  }
 ],
 "metadata": {
  "kernelspec": {
   "display_name": "Python 3",
   "language": "python",
   "name": "python3"
  },
  "language_info": {
   "codemirror_mode": {
    "name": "ipython",
    "version": 3
   },
   "file_extension": ".py",
   "mimetype": "text/x-python",
   "name": "python",
   "nbconvert_exporter": "python",
   "pygments_lexer": "ipython3",
   "version": "3.8.8"
  }
 },
 "nbformat": 4,
 "nbformat_minor": 5
}
