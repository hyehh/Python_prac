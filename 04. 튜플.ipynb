{
 "cells": [
  {
   "cell_type": "markdown",
   "id": "e0af8609",
   "metadata": {},
   "source": [
    "# 튜플(Tuple) 자료형\n",
    ": Tuple은 다음과 같은 점을 제외하고 리스트와 거의 비슷하다.\n",
    "- (,)로 사용\n",
    "- 리스트는 그 값을 생성, 삭제, 수정이 가능하지만 튜플은 값을 바꿀 수 없다.\n",
    "- 데이터 생성, 삭제, 수정 하지 않을 것이라면 튜플을 사용하는 것이 퍼포먼스적으로 좋음.\n",
    "- 튜플은 데이터 분석할 때는 잘 사용하지 않고, 함수 만들 때 많이 사용됨."
   ]
  },
  {
   "cell_type": "code",
   "execution_count": 1,
   "id": "a7bbe33b",
   "metadata": {},
   "outputs": [
    {
     "name": "stdout",
     "output_type": "stream",
     "text": [
      "()\n",
      "1\n",
      "(1, 2, 3)\n",
      "(1, 2, 3)\n",
      "(\"I'm\", 3, 'years', 'old')\n",
      "('a', 'b', ('ab', 'cd'))\n"
     ]
    }
   ],
   "source": [
    "# 튜플의 선언 () 사용\n",
    "var01 = ()\n",
    "var02 = (1)\n",
    "var03 = (1,2,3)\n",
    "var04 = 1,2,3\n",
    "var05 = (\"I'm\", 3, 'years', 'old')\n",
    "var06 = ('a', 'b', ('ab', 'cd'))\n",
    "print(var01)\n",
    "print(var02)\n",
    "print(var03)\n",
    "print(var04)\n",
    "print(var05)\n",
    "print(var06)"
   ]
  },
  {
   "cell_type": "code",
   "execution_count": 2,
   "id": "8c1201f8",
   "metadata": {},
   "outputs": [
    {
     "name": "stdout",
     "output_type": "stream",
     "text": [
      "3\n"
     ]
    }
   ],
   "source": [
    "# Indexing 과 Slicing 은 리스트와 동일\n",
    "print(var05[1])"
   ]
  },
  {
   "cell_type": "code",
   "execution_count": 3,
   "id": "b1399534",
   "metadata": {},
   "outputs": [
    {
     "name": "stdout",
     "output_type": "stream",
     "text": [
      "1\n",
      "2\n"
     ]
    }
   ],
   "source": [
    "a,b = (1,2)\n",
    "print(a)\n",
    "print(b)"
   ]
  },
  {
   "cell_type": "code",
   "execution_count": null,
   "id": "8d20afdb",
   "metadata": {},
   "outputs": [],
   "source": []
  }
 ],
 "metadata": {
  "kernelspec": {
   "display_name": "Python 3",
   "language": "python",
   "name": "python3"
  },
  "language_info": {
   "codemirror_mode": {
    "name": "ipython",
    "version": 3
   },
   "file_extension": ".py",
   "mimetype": "text/x-python",
   "name": "python",
   "nbconvert_exporter": "python",
   "pygments_lexer": "ipython3",
   "version": "3.8.8"
  }
 },
 "nbformat": 4,
 "nbformat_minor": 5
}
