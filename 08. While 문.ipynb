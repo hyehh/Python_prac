{
 "cells": [
  {
   "cell_type": "markdown",
   "id": "de160b02",
   "metadata": {},
   "source": [
    "# While 문\n",
    "## 파이썬에서는 while 많이 사용! (크롤링할 때 데이터가 몇 개인지 알 수 없기 때문!)"
   ]
  },
  {
   "cell_type": "code",
   "execution_count": 1,
   "id": "3ce9cbcb",
   "metadata": {},
   "outputs": [
    {
     "name": "stdout",
     "output_type": "stream",
     "text": [
      "나무를 1번 찍었습니다\n",
      "나무를 2번 찍었습니다\n",
      "나무를 3번 찍었습니다\n",
      "나무를 4번 찍었습니다\n",
      "나무를 5번 찍었습니다\n",
      "나무를 6번 찍었습니다\n",
      "나무를 7번 찍었습니다\n",
      "나무를 8번 찍었습니다\n",
      "나무를 9번 찍었습니다\n",
      "나무를 10번 찍었습니다\n",
      "나무 넘어갑니다.\n"
     ]
    }
   ],
   "source": [
    "# 값 비교 시 변수 선언해주고 시작하기!\n",
    "treeHit = 0\n",
    "\n",
    "while treeHit < 10:\n",
    "    treeHit += 1\n",
    "    print('나무를 %d번 찍었습니다'%treeHit)\n",
    "    if treeHit == 10:\n",
    "        print('나무 넘어갑니다.')"
   ]
  },
  {
   "cell_type": "code",
   "execution_count": 2,
   "id": "611f62bd",
   "metadata": {},
   "outputs": [],
   "source": [
    "# 사용자가 선택하면 선택값에 따라 메뉴 재등장 or 종료\n",
    "prompt = \"\"\"\n",
    "    1. 덧셈\n",
    "    2. 뺄셈\n",
    "    3. 곱셈\n",
    "    4. 나눗셈\n",
    "    5. 종료\n",
    "    \n",
    "    숫자를 입력하세요!\n",
    "\"\"\""
   ]
  },
  {
   "cell_type": "code",
   "execution_count": 3,
   "id": "3df958ca",
   "metadata": {},
   "outputs": [
    {
     "name": "stdout",
     "output_type": "stream",
     "text": [
      "\n",
      "    1. 덧셈\n",
      "    2. 뺄셈\n",
      "    3. 곱셈\n",
      "    4. 나눗셈\n",
      "    5. 종료\n",
      "    \n",
      "    숫자를 입력하세요!\n",
      "\n",
      "2\n",
      "\n",
      "    1. 덧셈\n",
      "    2. 뺄셈\n",
      "    3. 곱셈\n",
      "    4. 나눗셈\n",
      "    5. 종료\n",
      "    \n",
      "    숫자를 입력하세요!\n",
      "\n",
      "4\n",
      "\n",
      "    1. 덧셈\n",
      "    2. 뺄셈\n",
      "    3. 곱셈\n",
      "    4. 나눗셈\n",
      "    5. 종료\n",
      "    \n",
      "    숫자를 입력하세요!\n",
      "\n",
      "5\n"
     ]
    }
   ],
   "source": [
    "number = 0\n",
    "\n",
    "while number != 5:\n",
    "    print(prompt)\n",
    "    number = int(input())"
   ]
  },
  {
   "cell_type": "code",
   "execution_count": 4,
   "id": "6f8a1a4b",
   "metadata": {},
   "outputs": [
    {
     "name": "stdout",
     "output_type": "stream",
     "text": [
      "0\n",
      "1\n",
      "2\n",
      "3\n",
      "4\n"
     ]
    }
   ],
   "source": [
    "# break : 조건에 맞아도 더 이상 진행 안하고 반복을 중단한다는 의미\n",
    "# break문을 사용하여 var가 5인 경우 while 문 빠져나가기\n",
    "var = 0\n",
    "\n",
    "while var < 10:\n",
    "    print(var)\n",
    "    var += 1\n",
    "    if var == 5:\n",
    "        break"
   ]
  },
  {
   "cell_type": "code",
   "execution_count": 5,
   "id": "403c3dc0",
   "metadata": {},
   "outputs": [
    {
     "name": "stdout",
     "output_type": "stream",
     "text": [
      "1\n",
      "2\n",
      "3\n",
      "4\n",
      "6\n",
      "7\n",
      "8\n",
      "9\n",
      "10\n"
     ]
    }
   ],
   "source": [
    "# continue문을 사용하여 10보다 작은 수 중 5인 경우에만 출력하지 않고, 나머지 숫자는 출력하기\n",
    "var = 0\n",
    "\n",
    "while var < 10:\n",
    "    var += 1\n",
    "    if var == 5:\n",
    "        continue\n",
    "    print(var)"
   ]
  },
  {
   "cell_type": "code",
   "execution_count": 6,
   "id": "82216206",
   "metadata": {},
   "outputs": [
    {
     "name": "stdout",
     "output_type": "stream",
     "text": [
      "1\n",
      "3\n",
      "5\n",
      "7\n",
      "9\n"
     ]
    }
   ],
   "source": [
    "# continue문을 사용하여 1~10 숫자 중 홀수만 출력하기\n",
    "var = 0\n",
    "\n",
    "while var < 10:\n",
    "    var += 1\n",
    "    if var % 2 == 0:\n",
    "        continue\n",
    "    print(var)"
   ]
  },
  {
   "cell_type": "code",
   "execution_count": 7,
   "id": "ae6b53f2",
   "metadata": {},
   "outputs": [
    {
     "name": "stdout",
     "output_type": "stream",
     "text": [
      "노력\n",
      "우수\n",
      "우수\n",
      "노력\n"
     ]
    }
   ],
   "source": [
    "# 점수가 80점 이상이면 우수, 나머지는 노력으로 출력\n",
    "scores = [78, 85, 95, 65]\n",
    "var = 0\n",
    "\n",
    "while var < len(scores):\n",
    "    if scores[var] >= 80:\n",
    "        print('우수')\n",
    "    else:\n",
    "        print('노력')\n",
    "    var += 1"
   ]
  },
  {
   "cell_type": "code",
   "execution_count": 8,
   "id": "bf7eecc3",
   "metadata": {},
   "outputs": [
    {
     "name": "stdout",
     "output_type": "stream",
     "text": [
      "노력\n",
      "우수\n",
      "우수\n",
      "노력\n"
     ]
    }
   ],
   "source": [
    "# 점수가 80점 이상이면 우수, 나머지는 노력으로 출력 (python ver.)\n",
    "scores = [78, 85, 95, 65]\n",
    "var = 0\n",
    "\n",
    "while scores:\n",
    "    if scores.pop(var) >= 80:\n",
    "        print('우수')\n",
    "    else:\n",
    "        print('노력')"
   ]
  },
  {
   "cell_type": "code",
   "execution_count": 9,
   "id": "83bfa9cd",
   "metadata": {},
   "outputs": [],
   "source": [
    "# 평균 구하기\n",
    "scores = [78, 85, 95, 65]\n",
    "total = 0\n",
    "var = 0\n",
    "\n",
    "while var < 4:\n",
    "    total += scores[var]\n",
    "    var += 1\n",
    "avg = total / len(scores)"
   ]
  },
  {
   "cell_type": "code",
   "execution_count": 10,
   "id": "e0bc51bb",
   "metadata": {},
   "outputs": [
    {
     "name": "stdout",
     "output_type": "stream",
     "text": [
      "80.75\n"
     ]
    }
   ],
   "source": [
    "# 평균 구하기\n",
    "scores = [78, 85, 95, 65]\n",
    "total = 0\n",
    "var = 0\n",
    "length = len(scores)\n",
    "\n",
    "while scores:\n",
    "    total += scores.pop(var)\n",
    "    \n",
    "avg = total / length\n",
    "print(avg)"
   ]
  },
  {
   "cell_type": "code",
   "execution_count": 11,
   "id": "d22d7214",
   "metadata": {},
   "outputs": [
    {
     "name": "stdout",
     "output_type": "stream",
     "text": [
      "80.75\n"
     ]
    }
   ],
   "source": [
    "# 평균 구하기 (python ver.)\n",
    "import numpy as np\n",
    "scores = [78, 85, 95, 65]\n",
    "print(np.mean(scores))"
   ]
  },
  {
   "cell_type": "code",
   "execution_count": 12,
   "id": "23600897",
   "metadata": {
    "scrolled": false
   },
   "outputs": [
    {
     "ename": "SyntaxError",
     "evalue": "invalid syntax (<ipython-input-12-0eb4fafb9df8>, line 24)",
     "output_type": "error",
     "traceback": [
      "\u001b[0;36m  File \u001b[0;32m\"<ipython-input-12-0eb4fafb9df8>\"\u001b[0;36m, line \u001b[0;32m24\u001b[0m\n\u001b[0;31m    math.\u001b[0m\n\u001b[0m         ^\u001b[0m\n\u001b[0;31mSyntaxError\u001b[0m\u001b[0;31m:\u001b[0m invalid syntax\n"
     ]
    }
   ],
   "source": [
    "# 표준편차 구하기 : 평균과 각 data의 차이의 제곱한 것의 합의 평균을 구한 것의 제곱근\n",
    "scores = [78, 85, 95, 65]\n",
    "total = 0\n",
    "var = 0\n",
    "\n",
    "# 평균 구하기\n",
    "while var < 4:\n",
    "    total += scores[var]\n",
    "    var += 1\n",
    "avg = total / len(scores)\n",
    "\n",
    "# (data - 평균)의 제곱 합의 평균 구하기\n",
    "total = 0\n",
    "var = 0\n",
    "\n",
    "while var < len(scores):\n",
    "    total += (scores[var] - avg) ** 2\n",
    "    var += 1\n",
    "avg = total / len(scores)\n",
    "\n",
    "# 위의 계산 값에 제곱근 구하기\n",
    "import math\n",
    "math.sqrt(avg)\n",
    "math."
   ]
  },
  {
   "cell_type": "code",
   "execution_count": 13,
   "id": "144127ba",
   "metadata": {},
   "outputs": [
    {
     "data": {
      "text/plain": [
       "10.917302780449024"
      ]
     },
     "execution_count": 13,
     "metadata": {},
     "output_type": "execute_result"
    }
   ],
   "source": [
    "# 표준편차 구하기 : 평균과 각 data의 차이의 제곱한 것의 합의 평균을 구한 것의 제곱근 (python ver.)\n",
    "import numpy as np\n",
    "scores = [78, 85, 95, 65]\n",
    "\n",
    "np.std(scores)"
   ]
  },
  {
   "cell_type": "code",
   "execution_count": null,
   "id": "396611b6",
   "metadata": {},
   "outputs": [],
   "source": []
  }
 ],
 "metadata": {
  "kernelspec": {
   "display_name": "Python 3",
   "language": "python",
   "name": "python3"
  },
  "language_info": {
   "codemirror_mode": {
    "name": "ipython",
    "version": 3
   },
   "file_extension": ".py",
   "mimetype": "text/x-python",
   "name": "python",
   "nbconvert_exporter": "python",
   "pygments_lexer": "ipython3",
   "version": "3.8.8"
  }
 },
 "nbformat": 4,
 "nbformat_minor": 5
}
