{
 "cells": [
  {
   "cell_type": "markdown",
   "id": "677a1b9a",
   "metadata": {},
   "source": [
    "# While 문\n",
    "## 파이썬에서는 while 많이 사용! (크롤링할 때 데이터가 몇 개인지 알 수 없기 때문!)"
   ]
  },
  {
   "cell_type": "code",
   "execution_count": 3,
   "id": "2f239606",
   "metadata": {},
   "outputs": [
    {
     "name": "stdout",
     "output_type": "stream",
     "text": [
      "나무를 1번 찍었습니다\n",
      "나무를 2번 찍었습니다\n",
      "나무를 3번 찍었습니다\n",
      "나무를 4번 찍었습니다\n",
      "나무를 5번 찍었습니다\n",
      "나무를 6번 찍었습니다\n",
      "나무를 7번 찍었습니다\n",
      "나무를 8번 찍었습니다\n",
      "나무를 9번 찍었습니다\n",
      "나무를 10번 찍었습니다\n",
      "나무 넘어갑니다.\n"
     ]
    }
   ],
   "source": [
    "# 값 비교 시 변수 선언해주고 시작하기!\n",
    "treeHit = 0\n",
    "\n",
    "while treeHit < 10:\n",
    "    treeHit += 1\n",
    "    print('나무를 %d번 찍었습니다'%treeHit)\n",
    "    if treeHit == 10:\n",
    "        print('나무 넘어갑니다.')"
   ]
  },
  {
   "cell_type": "code",
   "execution_count": 4,
   "id": "4e6f4510",
   "metadata": {},
   "outputs": [],
   "source": [
    "# 사용자가 선택하면 선택값에 따라 메뉴 재등장 or 종료\n",
    "prompt = \"\"\"\n",
    "    1. 덧셈\n",
    "    2. 뺄셈\n",
    "    3. 곱셈\n",
    "    4. 나눗셈\n",
    "    5. 종료\n",
    "    \n",
    "    숫자를 입력하세요!\n",
    "\"\"\""
   ]
  },
  {
   "cell_type": "code",
   "execution_count": 5,
   "id": "c09c0e72",
   "metadata": {},
   "outputs": [
    {
     "name": "stdout",
     "output_type": "stream",
     "text": [
      "\n",
      "    1. 덧셈\n",
      "    2. 뺄셈\n",
      "    3. 곱셈\n",
      "    4. 나눗셈\n",
      "    5. 종료\n",
      "    \n",
      "    숫자를 입력하세요!\n",
      "\n",
      "3\n",
      "\n",
      "    1. 덧셈\n",
      "    2. 뺄셈\n",
      "    3. 곱셈\n",
      "    4. 나눗셈\n",
      "    5. 종료\n",
      "    \n",
      "    숫자를 입력하세요!\n",
      "\n",
      "2\n",
      "\n",
      "    1. 덧셈\n",
      "    2. 뺄셈\n",
      "    3. 곱셈\n",
      "    4. 나눗셈\n",
      "    5. 종료\n",
      "    \n",
      "    숫자를 입력하세요!\n",
      "\n",
      "5\n"
     ]
    }
   ],
   "source": [
    "number = 0\n",
    "\n",
    "while number != 5:\n",
    "    print(prompt)\n",
    "    number = int(input())"
   ]
  },
  {
   "cell_type": "code",
   "execution_count": null,
   "id": "638696ca",
   "metadata": {},
   "outputs": [],
   "source": []
  }
 ],
 "metadata": {
  "kernelspec": {
   "display_name": "Python 3",
   "language": "python",
   "name": "python3"
  },
  "language_info": {
   "codemirror_mode": {
    "name": "ipython",
    "version": 3
   },
   "file_extension": ".py",
   "mimetype": "text/x-python",
   "name": "python",
   "nbconvert_exporter": "python",
   "pygments_lexer": "ipython3",
   "version": "3.8.8"
  }
 },
 "nbformat": 4,
 "nbformat_minor": 5
}
