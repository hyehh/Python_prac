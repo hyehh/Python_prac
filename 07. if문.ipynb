{
 "cells": [
  {
   "cell_type": "markdown",
   "id": "7b134217",
   "metadata": {},
   "source": [
    "# If문"
   ]
  },
  {
   "cell_type": "code",
   "execution_count": 1,
   "id": "c684272b",
   "metadata": {},
   "outputs": [],
   "source": [
    "# random 중 randint 만 사용하겠다\n",
    "from random import randint"
   ]
  },
  {
   "cell_type": "code",
   "execution_count": 8,
   "id": "2581597a",
   "metadata": {},
   "outputs": [
    {
     "name": "stdout",
     "output_type": "stream",
     "text": [
      "67 is greater than 50\n",
      "--------end----------\n"
     ]
    }
   ],
   "source": [
    "# if\n",
    "x = randint(1, 100)\n",
    "\n",
    "if x > 50:\n",
    "    print(str(x), \"is greater than 50\")\n",
    "    \n",
    "# 한 줄 띄고 사용하기 (버그 방지)\n",
    "print(\"--------end----------\")"
   ]
  },
  {
   "cell_type": "code",
   "execution_count": 10,
   "id": "eeca9482",
   "metadata": {},
   "outputs": [
    {
     "name": "stdout",
     "output_type": "stream",
     "text": [
      "34 is less or equal to 50\n",
      "--------end----------\n"
     ]
    }
   ],
   "source": [
    "# if else\n",
    "x = randint(1, 100)\n",
    "\n",
    "if x > 50:\n",
    "    print(str(x), \"is greater than 50\")\n",
    "else:\n",
    "    print(str(x), \"is less or equal to 50\")\n",
    "    \n",
    "print(\"--------end----------\")"
   ]
  },
  {
   "cell_type": "code",
   "execution_count": 17,
   "id": "cba486c9",
   "metadata": {},
   "outputs": [
    {
     "name": "stdout",
     "output_type": "stream",
     "text": [
      "17 is less than 50\n",
      "--------end----------\n"
     ]
    }
   ],
   "source": [
    "# if elif else\n",
    "x = randint(1, 100)\n",
    "\n",
    "if x > 50:\n",
    "    print(str(x), \"is greater than 50\")\n",
    "elif x == 50:\n",
    "    print(str(x), \"is equal to 50\")\n",
    "else:\n",
    "    print(str(x), \"is less than 50\")\n",
    "    \n",
    "print(\"--------end----------\")"
   ]
  },
  {
   "cell_type": "code",
   "execution_count": 18,
   "id": "9e8d2712",
   "metadata": {},
   "outputs": [
    {
     "name": "stdout",
     "output_type": "stream",
     "text": [
      "숫자를 입력하세요30\n"
     ]
    },
    {
     "data": {
      "text/plain": [
       "30"
      ]
     },
     "execution_count": 18,
     "metadata": {},
     "output_type": "execute_result"
    }
   ],
   "source": [
    "int(input(\"숫자를 입력하세요\"))"
   ]
  },
  {
   "cell_type": "code",
   "execution_count": 19,
   "id": "4b5aeb35",
   "metadata": {},
   "outputs": [
    {
     "name": "stdout",
     "output_type": "stream",
     "text": [
      "숫자를 입력하세요23\n"
     ]
    },
    {
     "data": {
      "text/plain": [
       "str"
      ]
     },
     "execution_count": 19,
     "metadata": {},
     "output_type": "execute_result"
    }
   ],
   "source": [
    "type(input(\"숫자를 입력하세요\"))"
   ]
  },
  {
   "cell_type": "code",
   "execution_count": 23,
   "id": "4e263cc2",
   "metadata": {},
   "outputs": [
    {
     "name": "stdout",
     "output_type": "stream",
     "text": [
      "숫자를 입력하세요33\n"
     ]
    },
    {
     "data": {
      "text/plain": [
       "int"
      ]
     },
     "execution_count": 23,
     "metadata": {},
     "output_type": "execute_result"
    }
   ],
   "source": [
    "type(int(input(\"숫자를 입력하세요\")))"
   ]
  },
  {
   "cell_type": "code",
   "execution_count": 25,
   "id": "c5bd3378",
   "metadata": {},
   "outputs": [
    {
     "name": "stdout",
     "output_type": "stream",
     "text": [
      "숫자를 입력하세요22\n",
      "22 값은 짝수 입니다.\n",
      "--------end----------\n"
     ]
    }
   ],
   "source": [
    "# 사용자로부터 숫자를 입력 받아 홀짝 구분\n",
    "# 예 : 23은 홀수 입니다.\n",
    "x = int(input(\"숫자를 입력하세요\"))\n",
    "\n",
    "if x % 2 == 1:\n",
    "    print(str(x), '값은 홀수 입니다.')\n",
    "else:\n",
    "    print(str(x), '값은 짝수 입니다.')\n",
    "\n",
    "print(\"--------end----------\")"
   ]
  },
  {
   "cell_type": "code",
   "execution_count": 27,
   "id": "5e14308b",
   "metadata": {},
   "outputs": [
    {
     "name": "stdout",
     "output_type": "stream",
     "text": [
      "점수를 입력하세요99\n",
      "점수는 99 점이고 A학점 입니다.\n",
      "--------end----------\n"
     ]
    }
   ],
   "source": [
    "# 사용자로부터 점수를 입력 받아 학점 등급 계산하여 출력하기\n",
    "# 예 : 점수는 89점이고 B학점 입니다.\n",
    "x = int(input(\"점수를 입력하세요\"))\n",
    "\n",
    "if x >= 90:\n",
    "    print('점수는', str(x), '점이고 A학점 입니다.')\n",
    "elif x >= 80:\n",
    "    print('점수는', str(x), '점이고 B학점 입니다.')\n",
    "elif x >= 70:\n",
    "    print('점수는', str(x), '점이고 C학점 입니다.')\n",
    "elif x >= 60:\n",
    "    print('점수는', str(x), '점이고 D학점 입니다.')\n",
    "elif x >= 50:\n",
    "    print('점수는', str(x), '점이고 E학점 입니다.')\n",
    "else:\n",
    "    print('점수는', str(x), '점이고 F학점 입니다.')\n",
    "    \n",
    "print(\"--------end----------\")"
   ]
  },
  {
   "cell_type": "code",
   "execution_count": 2,
   "id": "deefb472",
   "metadata": {},
   "outputs": [
    {
     "name": "stdout",
     "output_type": "stream",
     "text": [
      "점수를 입력하세요100\n",
      "점수는 100 점이고 A학점 입니다.\n"
     ]
    }
   ],
   "source": [
    "x = int(input(\"점수를 입력하세요\"))\n",
    "\n",
    "print('점수는', str(x), '점이고 ', end = \"\")\n",
    "if x >= 90:\n",
    "    print('A', end = \"\")\n",
    "elif x >= 80:\n",
    "    print('B', end = \"\")\n",
    "elif x >= 70:\n",
    "    print('C', end = \"\")\n",
    "elif x >= 60:\n",
    "    print('D', end = \"\")\n",
    "elif x >= 50:\n",
    "    print('E', end = \"\")\n",
    "else:\n",
    "    print('F', end = \"\")\n",
    "    \n",
    "print(\"학점 입니다.\")"
   ]
  },
  {
   "cell_type": "code",
   "execution_count": null,
   "id": "828e2c42",
   "metadata": {},
   "outputs": [],
   "source": []
  }
 ],
 "metadata": {
  "kernelspec": {
   "display_name": "Python 3",
   "language": "python",
   "name": "python3"
  },
  "language_info": {
   "codemirror_mode": {
    "name": "ipython",
    "version": 3
   },
   "file_extension": ".py",
   "mimetype": "text/x-python",
   "name": "python",
   "nbconvert_exporter": "python",
   "pygments_lexer": "ipython3",
   "version": "3.8.8"
  }
 },
 "nbformat": 4,
 "nbformat_minor": 5
}
