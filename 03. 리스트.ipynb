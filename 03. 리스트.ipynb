{
 "cells": [
  {
   "cell_type": "markdown",
   "id": "dfd3ea1f",
   "metadata": {},
   "source": [
    "# 리스트(list) 자료형\n",
    "- 숫자나 문자들의 모음을 하나의 자료형으로 표현하는데 사용\n",
    "- format : listName = [e1, e2, ...]"
   ]
  },
  {
   "cell_type": "markdown",
   "id": "74f87559",
   "metadata": {},
   "source": [
    "## 리스트 자료형 선언"
   ]
  },
  {
   "cell_type": "code",
   "execution_count": 10,
   "id": "2f90d23a",
   "metadata": {},
   "outputs": [
    {
     "name": "stdout",
     "output_type": "stream",
     "text": [
      "years old\n"
     ]
    }
   ],
   "source": [
    "# 리스트 선언\n",
    "var01 = []\n",
    "var02 = [1,2,3]\n",
    "var03 = ['I', \"have\", 'a', 'dream']\n",
    "var04 = [\"I'm\", 3, \"years old\"]\n",
    "var05 = [1, 2, ['Dream', 'comes', 'true']]"
   ]
  },
  {
   "cell_type": "markdown",
   "id": "f3218153",
   "metadata": {},
   "source": [
    "---"
   ]
  },
  {
   "cell_type": "markdown",
   "id": "e9ed846e",
   "metadata": {},
   "source": [
    "## 리스트의 Indexing과 Slicing"
   ]
  },
  {
   "cell_type": "code",
   "execution_count": 12,
   "id": "c1285e3c",
   "metadata": {},
   "outputs": [
    {
     "name": "stdout",
     "output_type": "stream",
     "text": [
      "have\n",
      "comes\n"
     ]
    }
   ],
   "source": [
    "print(var03[1])\n",
    "print(var05[2][1])"
   ]
  },
  {
   "cell_type": "code",
   "execution_count": 13,
   "id": "a398c414",
   "metadata": {},
   "outputs": [
    {
     "data": {
      "text/plain": [
       "5"
      ]
     },
     "execution_count": 13,
     "metadata": {},
     "output_type": "execute_result"
    }
   ],
   "source": [
    "# 리스트의 계산\n",
    "var02[1] + var04[1]"
   ]
  },
  {
   "cell_type": "code",
   "execution_count": 14,
   "id": "7ba5415c",
   "metadata": {},
   "outputs": [
    {
     "data": {
      "text/plain": [
       "'Dream'"
      ]
     },
     "execution_count": 14,
     "metadata": {},
     "output_type": "execute_result"
    }
   ],
   "source": [
    "# 3중 리스트에서 Indexing 작업하여 Dream만 출력하기\n",
    "var = [1, 2, ['a', 'b', ['Dream', 'comes', 'true']]]\n",
    "var[2][2][0]"
   ]
  },
  {
   "cell_type": "code",
   "execution_count": 15,
   "id": "ca55831f",
   "metadata": {},
   "outputs": [
    {
     "name": "stdout",
     "output_type": "stream",
     "text": [
      "[['a', 'b', ['Dream', 'comes', 'true']]]\n"
     ]
    }
   ],
   "source": [
    "print(var[2:])"
   ]
  },
  {
   "cell_type": "markdown",
   "id": "1466b0a1",
   "metadata": {},
   "source": [
    "---"
   ]
  },
  {
   "cell_type": "markdown",
   "id": "1d6baede",
   "metadata": {},
   "source": [
    "## 리스트의 연산"
   ]
  },
  {
   "cell_type": "code",
   "execution_count": 20,
   "id": "4ff153ef",
   "metadata": {},
   "outputs": [
    {
     "data": {
      "text/plain": [
       "[1, 2, 3, 4, 5, 6]"
      ]
     },
     "execution_count": 20,
     "metadata": {},
     "output_type": "execute_result"
    }
   ],
   "source": [
    "# 리스트 합치기\n",
    "var01 = [1,2,3]\n",
    "var02 = [4,5,6]\n",
    "var01 + var02"
   ]
  },
  {
   "cell_type": "code",
   "execution_count": 28,
   "id": "ee1c1215",
   "metadata": {},
   "outputs": [
    {
     "name": "stdout",
     "output_type": "stream",
     "text": [
      "5\n",
      "7\n",
      "9\n"
     ]
    }
   ],
   "source": [
    "# 리스트의 덧셈\n",
    "for i in range(0,3):\n",
    "    print(var01[i] + var02[i])"
   ]
  },
  {
   "cell_type": "code",
   "execution_count": 26,
   "id": "14927b55",
   "metadata": {},
   "outputs": [
    {
     "data": {
      "text/plain": [
       "[1, 2, 3, 1, 2, 3, 1, 2, 3]"
      ]
     },
     "execution_count": 26,
     "metadata": {},
     "output_type": "execute_result"
    }
   ],
   "source": [
    "# 리스트의 숫자 반복\n",
    "var01 * 3"
   ]
  },
  {
   "cell_type": "code",
   "execution_count": 30,
   "id": "44ffba02",
   "metadata": {},
   "outputs": [
    {
     "name": "stdout",
     "output_type": "stream",
     "text": [
      "10\n",
      "20\n",
      "30\n",
      "10\n",
      "20\n",
      "30\n"
     ]
    }
   ],
   "source": [
    "# 리스트의 곱셈\n",
    "# var01의 data를 10배 계산하여 출력하기\n",
    "for i in range(0,3):\n",
    "    print(var01[i] * 10)\n",
    "for i in var01:\n",
    "    print(i * 10)"
   ]
  },
  {
   "cell_type": "code",
   "execution_count": 33,
   "id": "4266e636",
   "metadata": {},
   "outputs": [
    {
     "data": {
      "text/plain": [
       "'3hi!'"
      ]
     },
     "execution_count": 33,
     "metadata": {},
     "output_type": "execute_result"
    }
   ],
   "source": [
    "# 리스트의 타입 변환\n",
    "str(var01[2]) + 'hi!'"
   ]
  },
  {
   "cell_type": "code",
   "execution_count": 36,
   "id": "2c63cebc",
   "metadata": {},
   "outputs": [
    {
     "name": "stdout",
     "output_type": "stream",
     "text": [
      "<class 'str'>\n",
      "<class 'int'>\n"
     ]
    }
   ],
   "source": [
    "temp = \"123\"\n",
    "print(type(temp))\n",
    "temp1 = int(temp)\n",
    "print(type(temp1))"
   ]
  },
  {
   "cell_type": "markdown",
   "id": "a92ff6b2",
   "metadata": {},
   "source": [
    "---"
   ]
  },
  {
   "cell_type": "markdown",
   "id": "ed37356d",
   "metadata": {},
   "source": [
    "## 리스트의 수정과 삭제"
   ]
  },
  {
   "cell_type": "code",
   "execution_count": 45,
   "id": "e3df3769",
   "metadata": {},
   "outputs": [
    {
     "data": {
      "text/plain": [
       "[1, 2, 3]"
      ]
     },
     "execution_count": 45,
     "metadata": {},
     "output_type": "execute_result"
    }
   ],
   "source": [
    "var = [1,2,3]\n",
    "var"
   ]
  },
  {
   "cell_type": "code",
   "execution_count": 46,
   "id": "b6b722ff",
   "metadata": {},
   "outputs": [
    {
     "data": {
      "text/plain": [
       "[1, 'a', 'b', ['c', 'd'], 3]"
      ]
     },
     "execution_count": 46,
     "metadata": {},
     "output_type": "execute_result"
    }
   ],
   "source": [
    "# 1번째에 'a', 'b', 'c' 추가\n",
    "var[1:2] = ['a', 'b', ['c', 'd']]\n",
    "var"
   ]
  },
  {
   "cell_type": "code",
   "execution_count": 51,
   "id": "df058f96",
   "metadata": {},
   "outputs": [
    {
     "data": {
      "text/plain": [
       "[1, 'c', 3]"
      ]
     },
     "execution_count": 51,
     "metadata": {},
     "output_type": "execute_result"
    }
   ],
   "source": [
    "# 1번째와 2번째 데이터 삭제\n",
    "var = [1, 'a', 'b', 'c', 3]\n",
    "var[1:4] = 'c'\n",
    "var"
   ]
  },
  {
   "cell_type": "code",
   "execution_count": 55,
   "id": "7afb2d45",
   "metadata": {},
   "outputs": [
    {
     "data": {
      "text/plain": [
       "[1, 'c', 3]"
      ]
     },
     "execution_count": 55,
     "metadata": {},
     "output_type": "execute_result"
    }
   ],
   "source": [
    "# 1번째와 2번째 데이터 삭제\n",
    "var = [1, 'a', 'b', 'c', 3]\n",
    "var[1:3] = []\n",
    "var"
   ]
  },
  {
   "cell_type": "code",
   "execution_count": 41,
   "id": "4d30e69d",
   "metadata": {},
   "outputs": [
    {
     "data": {
      "text/plain": [
       "[1, 'c', 3]"
      ]
     },
     "execution_count": 41,
     "metadata": {},
     "output_type": "execute_result"
    }
   ],
   "source": [
    "# 1번째와 2번째 데이터 삭제\n",
    "var = [1, 'a', 'b', 'c', 3]\n",
    "del var[1:3]\n",
    "var"
   ]
  },
  {
   "cell_type": "code",
   "execution_count": 42,
   "id": "159da1a3",
   "metadata": {},
   "outputs": [
    {
     "data": {
      "text/plain": [
       "[1, 2, 3, 4]"
      ]
     },
     "execution_count": 42,
     "metadata": {},
     "output_type": "execute_result"
    }
   ],
   "source": [
    "var = [1,2,3]\n",
    "var.append(4)\n",
    "var"
   ]
  },
  {
   "cell_type": "code",
   "execution_count": 43,
   "id": "ee717df7",
   "metadata": {},
   "outputs": [
    {
     "data": {
      "text/plain": [
       "[1, 2, 3, 4, [5, 6]]"
      ]
     },
     "execution_count": 43,
     "metadata": {},
     "output_type": "execute_result"
    }
   ],
   "source": [
    "var.append([5,6])\n",
    "var"
   ]
  },
  {
   "cell_type": "code",
   "execution_count": 59,
   "id": "c468d41f",
   "metadata": {},
   "outputs": [
    {
     "name": "stdout",
     "output_type": "stream",
     "text": [
      "[1, 2, 3, 4]\n",
      "[4, 3, 2, 1]\n",
      "4\n",
      "1\n"
     ]
    }
   ],
   "source": [
    "# 리스트의 정렬\n",
    "var = [1,4,3,2]\n",
    "\n",
    "# 오름차순\n",
    "var.sort()\n",
    "print(var)\n",
    "\n",
    "# 내림차순\n",
    "var.reverse()\n",
    "print(var)\n",
    "\n",
    "# 최대 최소\n",
    "print(max(var))\n",
    "print(min(var))"
   ]
  },
  {
   "cell_type": "code",
   "execution_count": 60,
   "id": "05d9d425",
   "metadata": {},
   "outputs": [
    {
     "name": "stdout",
     "output_type": "stream",
     "text": [
      "['국', '대', '민', '한']\n",
      "['한', '민', '대', '국']\n"
     ]
    }
   ],
   "source": [
    "# 리스트 문자 정렬 : 한글\n",
    "var = ['대', '한', '민', '국']\n",
    "\n",
    "# 오름차순\n",
    "var.sort()\n",
    "print(var)\n",
    "\n",
    "# 내림차순\n",
    "var.reverse()\n",
    "print(var)"
   ]
  },
  {
   "cell_type": "code",
   "execution_count": 63,
   "id": "0dbb744b",
   "metadata": {},
   "outputs": [
    {
     "data": {
      "text/plain": [
       "1"
      ]
     },
     "execution_count": 63,
     "metadata": {},
     "output_type": "execute_result"
    }
   ],
   "source": [
    "# 리스트의 위치 정보\n",
    "var = [4,5,6]\n",
    "# 5라는 데이터가 몇 번째에 있는지 출력\n",
    "var.index(5)"
   ]
  },
  {
   "cell_type": "code",
   "execution_count": 64,
   "id": "0f369cf3",
   "metadata": {},
   "outputs": [
    {
     "data": {
      "text/plain": [
       "[4, 3, 5, 6]"
      ]
     },
     "execution_count": 64,
     "metadata": {},
     "output_type": "execute_result"
    }
   ],
   "source": [
    "# 리스트 요소 삽입\n",
    "var.insert(1, 3)\n",
    "var"
   ]
  },
  {
   "cell_type": "code",
   "execution_count": 65,
   "id": "39f69a7f",
   "metadata": {},
   "outputs": [
    {
     "data": {
      "text/plain": [
       "[4, 5, 6]"
      ]
     },
     "execution_count": 65,
     "metadata": {},
     "output_type": "execute_result"
    }
   ],
   "source": [
    "# 리스트 요소 제거 (데이터가 3인 것 제거)\n",
    "var.remove(3)\n",
    "var"
   ]
  },
  {
   "cell_type": "code",
   "execution_count": 68,
   "id": "6ed15e4f",
   "metadata": {},
   "outputs": [
    {
     "name": "stdout",
     "output_type": "stream",
     "text": [
      "3\n",
      "[1, 2]\n",
      "2\n",
      "[1]\n",
      "1\n",
      "[]\n"
     ]
    }
   ],
   "source": [
    "# 리스트 요소 끄집어 내기\n",
    "var = [1,2,3]\n",
    "print(var.pop())\n",
    "print(var)\n",
    "print(var.pop())\n",
    "print(var)\n",
    "print(var.pop())\n",
    "print(var)"
   ]
  },
  {
   "cell_type": "code",
   "execution_count": 72,
   "id": "e9643d71",
   "metadata": {},
   "outputs": [
    {
     "name": "stdout",
     "output_type": "stream",
     "text": [
      "3\n",
      "2\n",
      "1\n",
      "[]\n"
     ]
    }
   ],
   "source": [
    "# for 문을 사용한 pop\n",
    "var = [1,2,3]\n",
    "for i in range(0,3):\n",
    "    print(var.pop())\n",
    "print(var)"
   ]
  },
  {
   "cell_type": "code",
   "execution_count": 76,
   "id": "8d45e407",
   "metadata": {},
   "outputs": [
    {
     "data": {
      "text/plain": [
       "[1, 2, 3, 4, 5, 6]"
      ]
     },
     "execution_count": 76,
     "metadata": {},
     "output_type": "execute_result"
    }
   ],
   "source": [
    "# 리스트의 확장\n",
    "var = [1,2,3,4]\n",
    "var1 = [5,6]\n",
    "var = var + var1\n",
    "var"
   ]
  },
  {
   "cell_type": "code",
   "execution_count": 77,
   "id": "12c6c883",
   "metadata": {},
   "outputs": [
    {
     "data": {
      "text/plain": [
       "[1, 2, 3, 4, 5, 6]"
      ]
     },
     "execution_count": 77,
     "metadata": {},
     "output_type": "execute_result"
    }
   ],
   "source": [
    "# 리스트의 확장\n",
    "var = [1,2,3,4]\n",
    "var1 = [5,6]\n",
    "var.extend(var1)\n",
    "var"
   ]
  },
  {
   "cell_type": "code",
   "execution_count": null,
   "id": "2e1ab558",
   "metadata": {},
   "outputs": [],
   "source": []
  }
 ],
 "metadata": {
  "kernelspec": {
   "display_name": "Python 3",
   "language": "python",
   "name": "python3"
  },
  "language_info": {
   "codemirror_mode": {
    "name": "ipython",
    "version": 3
   },
   "file_extension": ".py",
   "mimetype": "text/x-python",
   "name": "python",
   "nbconvert_exporter": "python",
   "pygments_lexer": "ipython3",
   "version": "3.8.8"
  }
 },
 "nbformat": 4,
 "nbformat_minor": 5
}
