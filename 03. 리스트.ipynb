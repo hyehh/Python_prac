{
 "cells": [
  {
   "cell_type": "markdown",
   "id": "891d3e08",
   "metadata": {},
   "source": [
    "# 리스트(list) 자료형\n",
    "- 숫자나 문자들의 모음을 하나의 자료형으로 표현하는데 사용\n",
    "- format : listName = [e1, e2, ...]"
   ]
  },
  {
   "cell_type": "markdown",
   "id": "4fb0a78a",
   "metadata": {},
   "source": [
    "## 리스트 자료형 선언"
   ]
  },
  {
   "cell_type": "code",
   "execution_count": 10,
   "id": "28b548a6",
   "metadata": {},
   "outputs": [
    {
     "name": "stdout",
     "output_type": "stream",
     "text": [
      "years old\n"
     ]
    }
   ],
   "source": [
    "# 리스트 선언\n",
    "var01 = []\n",
    "var02 = [1,2,3]\n",
    "var03 = ['I', \"have\", 'a', 'dream']\n",
    "var04 = [\"I'm\", 3, \"years old\"]\n",
    "var05 = [1, 2, ['Dream', 'comes', 'true']]"
   ]
  },
  {
   "cell_type": "code",
   "execution_count": null,
   "id": "fcd8d44a",
   "metadata": {},
   "outputs": [],
   "source": []
  }
 ],
 "metadata": {
  "kernelspec": {
   "display_name": "Python 3",
   "language": "python",
   "name": "python3"
  },
  "language_info": {
   "codemirror_mode": {
    "name": "ipython",
    "version": 3
   },
   "file_extension": ".py",
   "mimetype": "text/x-python",
   "name": "python",
   "nbconvert_exporter": "python",
   "pygments_lexer": "ipython3",
   "version": "3.8.8"
  }
 },
 "nbformat": 4,
 "nbformat_minor": 5
}
